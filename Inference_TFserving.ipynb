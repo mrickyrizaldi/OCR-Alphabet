{
 "cells": [
  {
   "cell_type": "code",
   "execution_count": 7,
   "metadata": {},
   "outputs": [],
   "source": [
    "import requests\n",
    "import json\n",
    "import tensorflow as tf\n",
    "from PIL import Image\n",
    "import matplotlib.pyplot as plt"
   ]
  },
  {
   "cell_type": "code",
   "execution_count": 8,
   "metadata": {},
   "outputs": [],
   "source": [
    "def images_preprocessing(filename):\n",
    "    \"\"\"Membaca, resize, dan memproses gambar grayscale sebelum inference.\"\"\"\n",
    "    # Membaca gambar dalam grayscale\n",
    "    image = tf.io.decode_image(open(filename, 'rb').read(), channels=1)\n",
    "    # Resize gambar ke ukuran yang sesuai dengan model (64x64)\n",
    "    image = tf.image.resize(image, [64, 64])\n",
    "    # Normalisasi pixel dari 0-255 ke 0-1\n",
    "    image = image / 255.0\n",
    "    # Tambahkan dimensi batch\n",
    "    image_tensor = tf.expand_dims(image, 0).numpy().tolist()  # Bentuknya jadi (1, 64, 64, 1)\n",
    "    return image_tensor, image"
   ]
  },
  {
   "cell_type": "code",
   "execution_count": 11,
   "metadata": {},
   "outputs": [
    {
     "name": "stdout",
     "output_type": "stream",
     "text": [
      "Predicted class: 2\n"
     ]
    },
    {
     "data": {
      "image/png": "[encoded data removed]",
      "text/plain": [
       "<Figure size 640x480 with 1 Axes>"
      ]
     },
     "metadata": {},
     "output_type": "display_data"
    },
    {
     "name": "stdout",
     "output_type": "stream",
     "text": [
      "Prediksi:  C\n"
     ]
    }
   ],
   "source": [
    "# Path ke gambar yang ingin diuji\n",
    "image_path = \"C:/tmp/BPML/unseen_images/C_L_3472.png\"\n",
    "\n",
    "# Preprocessing gambar\n",
    "input_image_tensor, processed_image = images_preprocessing(image_path)\n",
    "\n",
    "# URL model serving\n",
    "url = \"http://localhost:8502/v1/models/saved_model:predict\"\n",
    "\n",
    "# Data dalam format JSON yang dikirim ke server\n",
    "data = json.dumps({\"instances\": input_image_tensor})\n",
    "\n",
    "# Kirim POST request ke TensorFlow Serving\n",
    "response = requests.post(url, data=data)\n",
    "\n",
    "# Memuat label dari file labels.txt\n",
    "labels = []\n",
    "with open('C:/tmp/BPML/tflite_model/labels.txt', 'r') as f:\n",
    "    labels = [line.strip() for line in f.readlines()]\n",
    "        \n",
    "# Cek status response\n",
    "if response.status_code == 200:\n",
    "    # Ambil prediksi dari response\n",
    "    predictions = response.json()[\"predictions\"]\n",
    "    # Mendapatkan kelas dengan probabilitas tertinggi\n",
    "    predicted_class = tf.argmax(predictions[0]).numpy()\n",
    "    print(f'Predicted class: {predicted_class}')\n",
    "\n",
    "    # Tampilkan gambar yang diproses\n",
    "    img = Image.open(image_path)\n",
    "    plt.imshow(img, cmap=\"gray\")\n",
    "    plt.axis('off')  # Sembunyikan sumbu\n",
    "    plt.show()\n",
    "\n",
    "    # Print prediksi huruf\n",
    "    print(\"Prediksi: \", labels[predicted_class])\n",
    "else:\n",
    "    print(\"Error:\", response.text)"
   ]
  }
 ],
 "metadata": {
  "kernelspec": {
   "display_name": ".venv",
   "language": "python",
   "name": "python3"
  },
  "language_info": {
   "codemirror_mode": {
    "name": "ipython",
    "version": 3
   },
   "file_extension": ".py",
   "mimetype": "text/x-python",
   "name": "python",
   "nbconvert_exporter": "python",
   "pygments_lexer": "ipython3",
   "version": "3.10.11"
  }
 },
 "nbformat": 4,
 "nbformat_minor": 2
}
